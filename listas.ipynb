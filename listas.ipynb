{
 "cells": [
  {
   "cell_type": "code",
   "execution_count": 48,
   "metadata": {},
   "outputs": [
    {
     "name": "stdout",
     "output_type": "stream",
     "text": [
      "naranja\n"
     ]
    }
   ],
   "source": [
    "mi_lista=[\"rojo\",\"azul\",\"amarillo\",\"verde\",\"naranja\"] #estructura de la lista.\n",
    "print(mi_lista[4])  #las listas siempre se inicializan en 0."
   ]
  },
  {
   "cell_type": "code",
   "execution_count": 49,
   "metadata": {},
   "outputs": [
    {
     "name": "stdout",
     "output_type": "stream",
     "text": [
      "['rojo', 'azul', 'amarillo']\n"
     ]
    }
   ],
   "source": [
    "print(mi_lista[0:3]) #le damos un rango para que me imprima"
   ]
  },
  {
   "cell_type": "code",
   "execution_count": 50,
   "metadata": {},
   "outputs": [
    {
     "name": "stdout",
     "output_type": "stream",
     "text": [
      "['rojo', 'azul', 'amarillo', 'verde', 'naranja']\n"
     ]
    }
   ],
   "source": [
    "print(mi_lista[0:]) #Al No marcar el segundo valor python asume que es todos los valores de la lista"
   ]
  },
  {
   "cell_type": "code",
   "execution_count": 51,
   "metadata": {},
   "outputs": [
    {
     "name": "stdout",
     "output_type": "stream",
     "text": [
      "['rojo', 'azul', 'amarillo', 'verde', 'naranja', 'blanco']\n"
     ]
    }
   ],
   "source": [
    "mi_lista.append(\"blanco\")  #con el metodo append agregamos un nuevo elemento a la lista actual\n",
    "print(mi_lista)"
   ]
  },
  {
   "cell_type": "code",
   "execution_count": 52,
   "metadata": {},
   "outputs": [
    {
     "data": {
      "text/plain": [
       "2"
      ]
     },
     "execution_count": 52,
     "metadata": {},
     "output_type": "execute_result"
    }
   ],
   "source": [
    "mi_lista.index(\"amarillo\") #podemos saber en que indice se encuentra el valor de nuestra lista"
   ]
  },
  {
   "cell_type": "code",
   "execution_count": 59,
   "metadata": {},
   "outputs": [
    {
     "name": "stdout",
     "output_type": "stream",
     "text": [
      "['azul', 'amarillo', 'negro', 'verde']\n"
     ]
    }
   ],
   "source": [
    "mi_lista.insert(2,\"negro\") #insertamos un valor en la pocision deseada poniendo el indice que deseamos.\n",
    "print(mi_lista)"
   ]
  },
  {
   "cell_type": "code",
   "execution_count": 53,
   "metadata": {},
   "outputs": [
    {
     "name": "stdout",
     "output_type": "stream",
     "text": [
      "['azul', 'amarillo', 'verde', 'naranja', 'blanco']\n"
     ]
    }
   ],
   "source": [
    "mi_lista.remove(\"rojo\") #Eliminamos elementos de la lista\n",
    "print(mi_lista)"
   ]
  },
  {
   "cell_type": "code",
   "execution_count": 56,
   "metadata": {},
   "outputs": [
    {
     "name": "stdout",
     "output_type": "stream",
     "text": [
      "['azul', 'amarillo', 'verde']\n",
      "naranja\n"
     ]
    }
   ],
   "source": [
    "ultimo = mi_lista.pop() #.POP elimina elementos de la lista de manera defenitiva para evitar esto se debe guardar\n",
    "print(mi_lista) #en una variable para despues encontrar su valor \n",
    "print(ultimo)"
   ]
  },
  {
   "cell_type": "code",
   "execution_count": 58,
   "metadata": {},
   "outputs": [
    {
     "name": "stdout",
     "output_type": "stream",
     "text": [
      "[22, 23, 24, 22, 23, 24, 22, 23, 24]\n"
     ]
    }
   ],
   "source": [
    "lista = [22,23,24] \n",
    "print(lista*3) # Multiplicamos la lista por 3"
   ]
  },
  {
   "cell_type": "code",
   "execution_count": 61,
   "metadata": {},
   "outputs": [
    {
     "name": "stdout",
     "output_type": "stream",
     "text": [
      "[1, 2, 3, 4, 5, 7, 9]\n"
     ]
    }
   ],
   "source": [
    "lista = [1,4,9,7,2,3,5]\n",
    "lista.sort() # .sort Ordena la lista de menor a mayor\n",
    "print(lista)"
   ]
  },
  {
   "cell_type": "code",
   "execution_count": 62,
   "metadata": {},
   "outputs": [
    {
     "name": "stdout",
     "output_type": "stream",
     "text": [
      "[9, 7, 5, 4, 3, 2, 1]\n"
     ]
    }
   ],
   "source": [
    "lista = [1,4,9,7,2,3,5]\n",
    "lista.sort(reverse=True) # Se Ordena la lista de Mayor a Menor\n",
    "print(lista)"
   ]
  },
  {
   "cell_type": "code",
   "execution_count": 60,
   "metadata": {},
   "outputs": [
    {
     "name": "stdout",
     "output_type": "stream",
     "text": [
      "['amarillo', 'azul', 'blanco', 'naranja', 'rojo', 'verde']\n"
     ]
    }
   ],
   "source": [
    "mi_lista = [\"rojo\",\"azul\",\"amarillo\",\"verde\",\"naranja\",\"blanco\"]\n",
    "mi_lista.sort() # .sort, se Ordena la lista en orden Alfabetico\n",
    "print(mi_lista)"
   ]
  },
  {
   "cell_type": "code",
   "execution_count": 63,
   "metadata": {},
   "outputs": [
    {
     "name": "stdout",
     "output_type": "stream",
     "text": [
      "['verde', 'rojo', 'naranja', 'blanco', 'azul', 'amarillo']\n"
     ]
    }
   ],
   "source": [
    "mi_lista = [\"rojo\",\"azul\",\"amarillo\",\"verde\",\"naranja\",\"blanco\"]\n",
    "mi_lista.sort(reverse=True) # Se ordena la lista alfabeticamente Pero en Orden inverso\n",
    "print(mi_lista)"
   ]
  },
  {
   "cell_type": "code",
   "execution_count": 2,
   "metadata": {},
   "outputs": [
    {
     "name": "stdout",
     "output_type": "stream",
     "text": [
      "['Roma', 'Egipto', 'Miami', 'Argentina', 'Chile']\n",
      "Egipto\n",
      "['Egipto', 'Miami', 'Argentina', 'Chile']\n",
      "['Roma', 'Egipto', 'Miami', 'Argentina']\n",
      "['Roma', 'Egipto', 'Miami', 'Argentina', 'Chile', 'Brasil']\n",
      "['Roma', 'Egipto', 'Miami', 'USA', 'Argentina', 'Chile', 'Brasil']\n",
      "['quiero viajar', 'a alguna de', 'estas ciudades', 'Roma', 'Egipto', 'Miami', 'USA', 'Argentina', 'Chile', 'Brasil']\n",
      "['Roma', 'Egipto', 'Miami', 'USA', 'Argentina', 'Brasil']\n",
      "Brasil\n",
      "['quiero viajar', 'a alguna de', 'estas ciudades', 'quiero viajar', 'a alguna de', 'estas ciudades']\n"
     ]
    },
    {
     "data": {
      "text/plain": [
       "1"
      ]
     },
     "execution_count": 2,
     "metadata": {},
     "output_type": "execute_result"
    }
   ],
   "source": [
    "my_lista=[\"Roma\",\"Egipto\",\"Miami\",\"Argentina\",\"Chile\"] #creo la lista\n",
    "print(my_lista) #Imprimo la lista\n",
    "print(my_lista[1]) #imprimo el segundo elemento\n",
    "print(my_lista[1:5]) #Imprimo del segundo al cuarto\n",
    "print(my_lista[0:4])\n",
    "type(my_lista) #visualizo el tipo de dato de la lista\n",
    "my_lista.append(\"Brasil\") #agrego una nueva ciudad\n",
    "print(my_lista)\n",
    "my_lista.insert(3,\"USA\") #agrego otra ciudad en la posicion deseada\n",
    "print(my_lista)\n",
    "nueva_lista=[\"quiero viajar\",\"a alguna de\",\"estas ciudades\"] #creo una nueva lista para concatenarla\n",
    "lista_concatenada=nueva_lista+my_lista #Concateno la lista creada con una exixtente\n",
    "print(lista_concatenada) #Imprimo la lista concatenada\n",
    "my_lista.remove(\"Chile\") #Elimino un elemento de la lista\n",
    "print(my_lista)\n",
    "ultimo_elemento=my_lista[-1] #Extraer el úlimo elemento de la lista, guardarlo en una variable e imprimirlo\n",
    "print(ultimo_elemento)\n",
    "nueva_lista=[\"quiero viajar\",\"a alguna de\",\"estas ciudades\"]\n",
    "print(nueva_lista*2) #Multiplicamos la lista por el numero deseado\n",
    "my_lista.count(\"Brasil\") #cuanto cuantas veces aparece un elemento.\n"
   ]
  }
 ],
 "metadata": {
  "kernelspec": {
   "display_name": "Python 3",
   "language": "python",
   "name": "python3"
  },
  "language_info": {
   "codemirror_mode": {
    "name": "ipython",
    "version": 3
   },
   "file_extension": ".py",
   "mimetype": "text/x-python",
   "name": "python",
   "nbconvert_exporter": "python",
   "pygments_lexer": "ipython3",
   "version": "3.11.4"
  },
  "orig_nbformat": 4
 },
 "nbformat": 4,
 "nbformat_minor": 2
}
