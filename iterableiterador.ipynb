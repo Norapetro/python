{
 "cells": [
  {
   "cell_type": "code",
   "execution_count": 1,
   "metadata": {},
   "outputs": [
    {
     "name": "stdout",
     "output_type": "stream",
     "text": [
      "2\n",
      "4\n",
      "6\n",
      "8\n",
      "10\n"
     ]
    }
   ],
   "source": [
    "lista=[2,4,6,8,10]\n",
    "i=0\n",
    "while i<len(lista):\n",
    "    elemento=lista[i]\n",
    "    print(elemento)\n",
    "    i+=1"
   ]
  },
  {
   "cell_type": "code",
   "execution_count": 2,
   "metadata": {},
   "outputs": [
    {
     "name": "stdout",
     "output_type": "stream",
     "text": [
      "2\n",
      "4\n",
      "6\n",
      "8\n",
      "10\n"
     ]
    }
   ],
   "source": [
    "lista=[2,4,6,8,10]\n",
    "for elemento in lista:\n",
    "    print(elemento)"
   ]
  },
  {
   "cell_type": "code",
   "execution_count": 6,
   "metadata": {},
   "outputs": [
    {
     "name": "stdout",
     "output_type": "stream",
     "text": [
      "A\n",
      "d\n",
      "r\n",
      "i\n",
      "a\n",
      "n\n"
     ]
    }
   ],
   "source": [
    "cadena = \"Adrian\"\n",
    "for c in cadena:\n",
    "    print(c)"
   ]
  },
  {
   "cell_type": "code",
   "execution_count": 8,
   "metadata": {},
   "outputs": [
    {
     "name": "stdout",
     "output_type": "stream",
     "text": [
      "(0, 'A')\n",
      "(1, 'd')\n",
      "(2, 'r')\n",
      "(3, 'i')\n",
      "(4, 'a')\n",
      "(5, 'n')\n"
     ]
    }
   ],
   "source": [
    "cadena = \"Adrian\"\n",
    "for c in enumerate (cadena):\n",
    "    print(c)"
   ]
  },
  {
   "cell_type": "code",
   "execution_count": 10,
   "metadata": {},
   "outputs": [
    {
     "data": {
      "text/plain": [
       "True"
      ]
     },
     "execution_count": 10,
     "metadata": {},
     "output_type": "execute_result"
    }
   ],
   "source": [
    "from collections.abc import Iterable\n",
    "cadena=\"Adrian\"\n",
    "numero=6\n",
    "isinstance(cadena,Iterable) #isinstance sabemos si es o no iterable el objeto"
   ]
  },
  {
   "cell_type": "code",
   "execution_count": 11,
   "metadata": {},
   "outputs": [
    {
     "data": {
      "text/plain": [
       "False"
      ]
     },
     "execution_count": 11,
     "metadata": {},
     "output_type": "execute_result"
    }
   ],
   "source": [
    "isinstance(numero,Iterable)"
   ]
  },
  {
   "cell_type": "code",
   "execution_count": 12,
   "metadata": {},
   "outputs": [
    {
     "name": "stdout",
     "output_type": "stream",
     "text": [
      "['A', 'd', 'r', 'i', 'a', 'n']\n"
     ]
    }
   ],
   "source": [
    "print(list(\"Adrian\")) #transformar un string en una lista"
   ]
  },
  {
   "cell_type": "code",
   "execution_count": 13,
   "metadata": {},
   "outputs": [
    {
     "name": "stdout",
     "output_type": "stream",
     "text": [
      "6\n"
     ]
    }
   ],
   "source": [
    "print(sum([1,2,3])) #nos suma elementos de la lista"
   ]
  },
  {
   "cell_type": "code",
   "execution_count": 14,
   "metadata": {},
   "outputs": [
    {
     "name": "stdout",
     "output_type": "stream",
     "text": [
      "A-d-r-i-a-n\n"
     ]
    }
   ],
   "source": [
    "print(\"-\".join(\"Adrian\")) #nos concatena los elementos y los separa con el separador que le asignemos"
   ]
  },
  {
   "cell_type": "code",
   "execution_count": 15,
   "metadata": {},
   "outputs": [
    {
     "name": "stdout",
     "output_type": "stream",
     "text": [
      "a\n",
      "b\n",
      "c\n"
     ]
    }
   ],
   "source": [
    "mi_dic = {\"a\":1,\"b\":2,\"c\":3}\n",
    "for i in mi_dic: #nos retorna las tres claves que estan dentro del diccionario\n",
    "    print(i)"
   ]
  },
  {
   "cell_type": "code",
   "execution_count": 1,
   "metadata": {},
   "outputs": [
    {
     "data": {
      "text/plain": [
       "list_iterator"
      ]
     },
     "execution_count": 1,
     "metadata": {},
     "output_type": "execute_result"
    }
   ],
   "source": [
    "libro=[\"pagina1\",\"pagina2\",\"pagina3\",\"pagina4\"]\n",
    "marcapagina=iter(libro) #un iterador nos permite recorrer los elementos uno por uno\n",
    "type(marcapagina)       #sin tener que cargar todos los elementos en la memoria al mismo tiempo"
   ]
  },
  {
   "cell_type": "code",
   "execution_count": 2,
   "metadata": {},
   "outputs": [
    {
     "name": "stdout",
     "output_type": "stream",
     "text": [
      "pagina1\n"
     ]
    }
   ],
   "source": [
    "print(next(marcapagina)) #se accede secuencialmente al objeto del iterabla secuencialmente (obtiene el siguiente elemento)"
   ]
  },
  {
   "cell_type": "code",
   "execution_count": 3,
   "metadata": {},
   "outputs": [
    {
     "name": "stdout",
     "output_type": "stream",
     "text": [
      "pagina2\n"
     ]
    }
   ],
   "source": [
    "print(next(marcapagina))"
   ]
  },
  {
   "cell_type": "code",
   "execution_count": 4,
   "metadata": {},
   "outputs": [
    {
     "name": "stdout",
     "output_type": "stream",
     "text": [
      "pagina3\n"
     ]
    }
   ],
   "source": [
    "print(next(marcapagina))"
   ]
  },
  {
   "cell_type": "code",
   "execution_count": 5,
   "metadata": {},
   "outputs": [
    {
     "name": "stdout",
     "output_type": "stream",
     "text": [
      "pagina4\n"
     ]
    }
   ],
   "source": [
    "print(next(marcapagina))"
   ]
  },
  {
   "cell_type": "code",
   "execution_count": 4,
   "metadata": {},
   "outputs": [
    {
     "name": "stdout",
     "output_type": "stream",
     "text": [
      "(1, 'A')\n",
      "(2, 'D')\n",
      "(3, 'R')\n",
      "(4, 'I')\n",
      "(5, 'A')\n",
      "(6, 'N')\n",
      "<class 'zip'>\n"
     ]
    }
   ],
   "source": [
    "lista_1=[1,2,3,4,5,6]\n",
    "lista_2=[\"A\",\"D\",\"R\",\"I\",\"A\",\"N\"]\n",
    "combinacion=zip(lista_1,lista_2)  #zip me permite iterar entre 2 o mas listas y convertirta el una lista de tupla.\n",
    "for elemento in combinacion: #el ciclo for me muestra el resultado\n",
    " print(elemento)\n",
    "print(type(combinacion))"
   ]
  },
  {
   "cell_type": "code",
   "execution_count": 1,
   "metadata": {},
   "outputs": [
    {
     "name": "stdout",
     "output_type": "stream",
     "text": [
      "[4, 8, 12]\n"
     ]
    }
   ],
   "source": [
    "numeros=[1,2,3,4,5,6,]\n",
    "pares_por_dos=[x*2 for x in numeros if x%2==0]\n",
    "print(pares_por_dos) #los numeros pares de la lista multiplicados por 2\n"
   ]
  },
  {
   "cell_type": "code",
   "execution_count": 3,
   "metadata": {},
   "outputs": [
    {
     "name": "stdout",
     "output_type": "stream",
     "text": [
      "['r', 'r', 'r', 'r', 'r', 'r']\n",
      "6\n"
     ]
    }
   ],
   "source": [
    "frase = \"El perro de san roque no tiene rabo pero si cola de raton\"\n",
    "erres = [i for i in frase if i == 'r']\n",
    "print(erres)\n",
    "print(len(erres))"
   ]
  },
  {
   "cell_type": "code",
   "execution_count": 3,
   "metadata": {},
   "outputs": [
    {
     "name": "stdout",
     "output_type": "stream",
     "text": [
      "['Adrian']\n",
      "[('Adrian', 3, 'Envigado', 'Masculino Bebé'), ('Cesar', 41, 'Cucuta', 'Masculino'), ('Nora', 30, 'Apartado', 'Femenina')]\n"
     ]
    }
   ],
   "source": [
    "nombres=[\"Adrian\",\"Cesar\",\"Nora\"]\n",
    "edades=[3,41,30]\n",
    "ciudades=[\"Envigado\",\"Cucuta\",\"Apartado\"]\n",
    "genero=[\"Masculino Bebé\",\"Masculino\",\"Femenina\"]\n",
    "lista_de_tuplas=list(zip(nombres,edades,ciudades,genero))\n",
    "nombrespecific=[i for i in nombres if i ==\"Adrian\"] #aqui le pido que itere y me de resultado\n",
    "print(nombrespecific)\n",
    "print(lista_de_tuplas)"
   ]
  }
 ],
 "metadata": {
  "kernelspec": {
   "display_name": "Python 3",
   "language": "python",
   "name": "python3"
  },
  "language_info": {
   "codemirror_mode": {
    "name": "ipython",
    "version": 3
   },
   "file_extension": ".py",
   "mimetype": "text/x-python",
   "name": "python",
   "nbconvert_exporter": "python",
   "pygments_lexer": "ipython3",
   "version": "3.11.4"
  },
  "orig_nbformat": 4
 },
 "nbformat": 4,
 "nbformat_minor": 2
}
