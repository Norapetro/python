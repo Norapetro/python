{
 "cells": [
  {
   "cell_type": "code",
   "execution_count": 2,
   "metadata": {},
   "outputs": [
    {
     "name": "stdout",
     "output_type": "stream",
     "text": [
      "2\n"
     ]
    }
   ],
   "source": [
    "suma=1\n",
    "suma=suma+1\n",
    "print(suma) # el resultado es 1"
   ]
  },
  {
   "cell_type": "code",
   "execution_count": 2,
   "metadata": {},
   "outputs": [
    {
     "name": "stdout",
     "output_type": "stream",
     "text": [
      "3\n"
     ]
    }
   ],
   "source": [
    "suma=0\n",
    "suma=suma+1\n",
    "suma=suma+2\n",
    "print(suma) # el resultado es 3"
   ]
  },
  {
   "cell_type": "code",
   "execution_count": 9,
   "metadata": {},
   "outputs": [
    {
     "name": "stdout",
     "output_type": "stream",
     "text": [
      "la suma de  1 + 1 es:  2\n",
      "la suma de  2 + 1 es:  3\n",
      "la suma de  3 + 1 es:  4\n",
      "la suma de  4 + 1 es:  5\n",
      "la suma de  5 + 1 es:  6\n"
     ]
    }
   ],
   "source": [
    "numeros=[1,2,3,4,5] #Ciclo For y me suma los numeros de 1 en 1 en un rango de 1 a 6.\n",
    "for num in numeros:\n",
    "    suma=num+1\n",
    "    print(\"la suma de \",num,\"+ 1 es: \",suma,)\n"
   ]
  },
  {
   "cell_type": "code",
   "execution_count": 16,
   "metadata": {},
   "outputs": [
    {
     "name": "stdout",
     "output_type": "stream",
     "text": [
      "la suma de  1 + 1 es;  2\n",
      "la suma de  2 + 1 es;  3\n",
      "la suma de  3 + 1 es;  4\n",
      "la suma de  4 + 1 es;  5\n",
      "la suma de  5 + 1 es;  6\n"
     ]
    }
   ],
   "source": [
    "for i in range(1,6): # suma los numeros de 1 en 1 en un rango de 1 a 6\n",
    "    suma=i+1\n",
    "    print(\"la suma de \",i,\"+ 1 es; \",suma)"
   ]
  },
  {
   "cell_type": "code",
   "execution_count": 7,
   "metadata": {},
   "outputs": [
    {
     "name": "stdout",
     "output_type": "stream",
     "text": [
      "Variable de iteraccion:  1  Resultado =  2\n",
      "Variable de iteraccion:  2  Resultado =  3\n",
      "Variable de iteraccion:  3  Resultado =  4\n",
      "Variable de iteraccion:  4  Resultado =  5\n",
      "Variable de iteraccion:  5  Resultado =  6\n"
     ]
    }
   ],
   "source": [
    "for i in range(1,6): \n",
    "    suma=i+1\n",
    "    print(\"Variable de iteraccion: \",i, \" Resultado = \",suma) "
   ]
  },
  {
   "cell_type": "code",
   "execution_count": 21,
   "metadata": {},
   "outputs": [
    {
     "name": "stdout",
     "output_type": "stream",
     "text": [
      "numero = 1\n",
      "numero = 2\n",
      "numero = 3\n",
      "numero = 4\n",
      "numero = 5\n",
      "numero = 6\n",
      "numero = 7\n",
      "numero = 8\n",
      "numero = 9\n"
     ]
    }
   ],
   "source": [
    "num=1\n",
    "while num<10: # Ciclo While (Mientras) se cumpla la funcion y me incrementa de 1 en 1 \n",
    "    print(\"numero =\",num)\n",
    "    num=num+1\n"
   ]
  },
  {
   "cell_type": "code",
   "execution_count": 22,
   "metadata": {},
   "outputs": [
    {
     "name": "stdout",
     "output_type": "stream",
     "text": [
      "p\n",
      "y\n",
      "t\n",
      "se encontro la letra h\n"
     ]
    }
   ],
   "source": [
    "cadena=\"python\"\n",
    "for letra in cadena:\n",
    "    if letra==\"h\":\n",
    "        print(\"se encontro la letra h\")\n",
    "        break  # Terina la ejecucion cuendo encuentra la letra que buscabamos.\n",
    "    print(letra)"
   ]
  },
  {
   "cell_type": "code",
   "execution_count": 32,
   "metadata": {},
   "outputs": [
    {
     "name": "stdout",
     "output_type": "stream",
     "text": [
      "p\n",
      "y\n",
      "t\n",
      "h\n",
      "n\n"
     ]
    }
   ],
   "source": [
    "cadena = \"python\"\n",
    "for letra in cadena:\n",
    "    if letra ==\"o\":\n",
    "        continue  #Realiza un salto cuando encuentra la letra y segue ejecuatando el codigo, por eso no vemos la letra encotrada.\n",
    "    print(letra)"
   ]
  },
  {
   "cell_type": "code",
   "execution_count": 24,
   "metadata": {},
   "outputs": [
    {
     "name": "stdout",
     "output_type": "stream",
     "text": [
      "4\n",
      "3\n",
      "2\n",
      "1\n",
      "0\n",
      "fin del bucle\n"
     ]
    }
   ],
   "source": [
    "x=5\n",
    "while True:\n",
    "    x-=1\n",
    "    print(x)\n",
    "    if x==0:\n",
    "        break # cuando X sea =0 se rompe el bucle y termina\n",
    "print(\"fin del bucle\")"
   ]
  },
  {
   "cell_type": "code",
   "execution_count": 49,
   "metadata": {},
   "outputs": [
    {
     "name": "stdout",
     "output_type": "stream",
     "text": [
      "el numero es:  1 impar\n",
      "el numero es:  2  PAR\n",
      "el numero es:  3 impar\n",
      "el numero es:  4  PAR\n",
      "el numero es:  5 impar\n",
      "el numero es:  6  PAR\n",
      "el numero es:  7 impar\n",
      "el numero es:  8  PAR\n",
      "el numero es:  9 impar\n",
      "el numero es:  10  PAR\n"
     ]
    }
   ],
   "source": [
    "for i in range (1, 11):\n",
    "    if i % 2 == 0:\n",
    "        print(\"el numero es: \",str (i), \" PAR\")\n",
    "    else:\n",
    "        print(\"el numero es: \",str (i), \"impar\")"
   ]
  },
  {
   "cell_type": "code",
   "execution_count": 8,
   "metadata": {},
   "outputs": [
    {
     "name": "stdout",
     "output_type": "stream",
     "text": [
      "0\n",
      "1\n",
      "2\n",
      "3\n",
      "5\n",
      "7\n"
     ]
    }
   ],
   "source": [
    "tope_rango=10   # Imprimir los números primos existentes entre 0 y 10.\n",
    "n = 0\n",
    "primo = True\n",
    "while (n < tope_rango):\n",
    "    for div in range(2, n):\n",
    "        if (n % div == 0):\n",
    "            primo = False\n",
    "            break # Termina la ejecucion del codigo\n",
    "    if (primo):\n",
    "        print(n)\n",
    "    else:\n",
    "        primo = True\n",
    "    n += 1"
   ]
  },
  {
   "cell_type": "code",
   "execution_count": 10,
   "metadata": {},
   "outputs": [
    {
     "name": "stdout",
     "output_type": "stream",
     "text": [
      "El resultado de 108 entre 12 es: 9\n",
      "El resultado de 120 entre 12 es: 10\n",
      "El resultado de 132 entre 12 es: 11\n",
      "El resultado de 144 entre 12 es: 12\n",
      "El resultado de 156 entre 12 es: 13\n",
      "El resultado de 168 entre 12 es: 14\n",
      "El resultado de 180 entre 12 es: 15\n",
      "El resultado de 192 entre 12 es: 16\n"
     ]
    }
   ],
   "source": [
    "n = 99\n",
    "while(n <= 200): # Se imprimen los valores divisibles entre 12 en un rango de 99 a 200.\n",
    "    n += 1 \n",
    "    if (n % 12 != 0):\n",
    "        continue\n",
    "    resultado = n // 12\n",
    "    print(f\"El resultado de {n} entre 12 es: {resultado}\")"
   ]
  }
 ],
 "metadata": {
  "kernelspec": {
   "display_name": "Python 3",
   "language": "python",
   "name": "python3"
  },
  "language_info": {
   "codemirror_mode": {
    "name": "ipython",
    "version": 3
   },
   "file_extension": ".py",
   "mimetype": "text/x-python",
   "name": "python",
   "nbconvert_exporter": "python",
   "pygments_lexer": "ipython3",
   "version": "3.11.4"
  },
  "orig_nbformat": 4
 },
 "nbformat": 4,
 "nbformat_minor": 2
}
