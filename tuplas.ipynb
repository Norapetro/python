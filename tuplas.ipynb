{
 "cells": [
  {
   "cell_type": "code",
   "execution_count": 1,
   "metadata": {},
   "outputs": [
    {
     "name": "stdout",
     "output_type": "stream",
     "text": [
      "(2, 4, 6, 8, 10)\n"
     ]
    },
    {
     "data": {
      "text/plain": [
       "tuple"
      ]
     },
     "execution_count": 1,
     "metadata": {},
     "output_type": "execute_result"
    }
   ],
   "source": [
    "mi_tupla=(2,4,6,8,10) #valores separados por comos y entre parentesis\n",
    "print(mi_tupla)\n",
    "type(mi_tupla) #sabemos de que tipo es"
   ]
  },
  {
   "cell_type": "code",
   "execution_count": 2,
   "metadata": {},
   "outputs": [
    {
     "name": "stdout",
     "output_type": "stream",
     "text": [
      "martes\n"
     ]
    }
   ],
   "source": [
    "tupla_dias=(\"lenes\",\"martes\",\"miercoles\",\"jueves\",\"viernes\",\"sabado\",\"domingo\")\n",
    "print(tupla_dias[1]) #El elemento en el indice 1 de la tupla"
   ]
  },
  {
   "cell_type": "code",
   "execution_count": 3,
   "metadata": {},
   "outputs": [
    {
     "data": {
      "text/plain": [
       "True"
      ]
     },
     "execution_count": 3,
     "metadata": {},
     "output_type": "execute_result"
    }
   ],
   "source": [
    "\"jueves\" in tupla_dias  # in... buscamos que un valor si se encuente en la tupla"
   ]
  },
  {
   "cell_type": "code",
   "execution_count": 8,
   "metadata": {},
   "outputs": [
    {
     "data": {
      "text/plain": [
       "('martes', 'miercoles')"
      ]
     },
     "execution_count": 8,
     "metadata": {},
     "output_type": "execute_result"
    }
   ],
   "source": [
    "tupla_dias[1:3]"
   ]
  },
  {
   "cell_type": "code",
   "execution_count": 4,
   "metadata": {},
   "outputs": [
    {
     "data": {
      "text/plain": [
       "1"
      ]
     },
     "execution_count": 4,
     "metadata": {},
     "output_type": "execute_result"
    }
   ],
   "source": [
    "tupla_dias.count(\"sabado\") # la cantidad de veces que aparece el valor en la tupla"
   ]
  },
  {
   "cell_type": "code",
   "execution_count": 7,
   "metadata": {},
   "outputs": [
    {
     "data": {
      "text/plain": [
       "tuple"
      ]
     },
     "execution_count": 7,
     "metadata": {},
     "output_type": "execute_result"
    }
   ],
   "source": [
    "mi_tupla_unitaria=(\"blanco\",) #se crea una tupla unitaria; pero es necesario poner una coma , al final\n",
    "type(mi_tupla_unitaria) # sin la coma se concidera que es solo un str"
   ]
  },
  {
   "cell_type": "code",
   "execution_count": 1,
   "metadata": {},
   "outputs": [
    {
     "name": "stdout",
     "output_type": "stream",
     "text": [
      "(1, 2, 3)\n"
     ]
    }
   ],
   "source": [
    "tupla = 1,2,3\n",
    "a,b,c = tupla\n",
    "print(tupla)"
   ]
  },
  {
   "cell_type": "code",
   "execution_count": 9,
   "metadata": {},
   "outputs": [
    {
     "name": "stdout",
     "output_type": "stream",
     "text": [
      "(11, 22, 'Henry')\n"
     ]
    },
    {
     "data": {
      "text/plain": [
       "tuple"
      ]
     },
     "execution_count": 9,
     "metadata": {},
     "output_type": "execute_result"
    }
   ],
   "source": [
    "x=11\n",
    "y=22\n",
    "z=\"Henry\"\n",
    "mi_tupla=x,y,z\n",
    "print(mi_tupla)\n",
    "type(mi_tupla)"
   ]
  },
  {
   "cell_type": "code",
   "execution_count": 10,
   "metadata": {},
   "outputs": [
    {
     "name": "stdout",
     "output_type": "stream",
     "text": [
      "(27, 'enero', 1993)\n"
     ]
    },
    {
     "data": {
      "text/plain": [
       "tuple"
      ]
     },
     "execution_count": 10,
     "metadata": {},
     "output_type": "execute_result"
    }
   ],
   "source": [
    "date=(27,\"enero\",1993) #Desempaquetado de tuplas\n",
    "print(date)\n",
    "type(date)"
   ]
  },
  {
   "cell_type": "code",
   "execution_count": 11,
   "metadata": {},
   "outputs": [
    {
     "name": "stdout",
     "output_type": "stream",
     "text": [
      "27\n",
      "enero\n",
      "1993\n"
     ]
    }
   ],
   "source": [
    "uno,dos,tres=date\n",
    "print(uno)\n",
    "print(dos)\n",
    "print(tres)"
   ]
  },
  {
   "cell_type": "code",
   "execution_count": 12,
   "metadata": {},
   "outputs": [
    {
     "name": "stdout",
     "output_type": "stream",
     "text": [
      "1\n",
      "7\n",
      "9\n"
     ]
    }
   ],
   "source": [
    "tupla_impares=(1,3,5,7,9) #desempaquetamos los valores que estan dentro de la tupla\n",
    "primero=tupla_impares[0]\n",
    "cuarto=tupla_impares[3]\n",
    "quinto=tupla_impares[4]\n",
    "print(primero)\n",
    "print(cuarto)\n",
    "print(quinto)"
   ]
  },
  {
   "cell_type": "code",
   "execution_count": 13,
   "metadata": {},
   "outputs": [
    {
     "name": "stdout",
     "output_type": "stream",
     "text": [
      "[1, 3, 5, 7, 9]\n"
     ]
    },
    {
     "data": {
      "text/plain": [
       "list"
      ]
     },
     "execution_count": 13,
     "metadata": {},
     "output_type": "execute_result"
    }
   ],
   "source": [
    "lista_impares=list(tupla_impares) #SE CONVIERTE LA TUPLA EN UNA LISTA y vemos los valores encerrados entre corchetes\n",
    "print(lista_impares)\n",
    "type(lista_impares) #se comprueba qe si se trate de una convercion a lista"
   ]
  },
  {
   "cell_type": "code",
   "execution_count": 14,
   "metadata": {},
   "outputs": [
    {
     "name": "stdout",
     "output_type": "stream",
     "text": [
      "(1, 3, 5, 7, 9)\n"
     ]
    },
    {
     "data": {
      "text/plain": [
       "tuple"
      ]
     },
     "execution_count": 14,
     "metadata": {},
     "output_type": "execute_result"
    }
   ],
   "source": [
    "nueva_tupla=tuple(lista_impares) #convertimos nuevamente la lista en tupla y vemos los valores encerrados en parentesis \n",
    "print(nueva_tupla)\n",
    "type(nueva_tupla) #comprovamos que el tipo sea una tupla"
   ]
  },
  {
   "cell_type": "code",
   "execution_count": 26,
   "metadata": {},
   "outputs": [
    {
     "name": "stdout",
     "output_type": "stream",
     "text": [
      "(1, 2, 3, 4, 5, 6, 7, 8, 9, 10, 11, 12, 13, 14, 15, 16, 17, 18, 19, 20)\n",
      "(10, 11, 12, 13, 14, 15)\n",
      "[1, 2, 3, 4, 5, 6, 7, 8, 9, 10, 11, 12, 13, 14, 15, 16, 17, 18, 19, 20]\n",
      "(1, 2, 3, 4, 5, 6, 7, 8, 9, 10, 11, 12, 13, 14, 15, 16, 17, 18, 19, 20)\n",
      "1\n",
      "2\n",
      "3\n"
     ]
    }
   ],
   "source": [
    "my_tupla=(1,2,3,4,5,6,7,8,9,10,11,12,13,14,15,16,17,18,19,20)\n",
    "print(my_tupla)\n",
    "print(my_tupla[9:15]) #Imprimir desde el índice 10 al 15 de la tupla\n",
    "20,30 in my_tupla\n",
    "my_tupla.count(3)\n",
    "lista_convertida=list(my_tupla) #converimos la tupla en lista  []\n",
    "print(lista_convertida)\n",
    "my_tupla=tuple(lista_convertida) #convertimos la lista en tupla  ()\n",
    "print(my_tupla)\n",
    "primer=my_tupla[0] #DESEMPAQUETAMOS LA TUPLA Y MOSTRAMOS LOS PRIMEROS TRES ELEMENTOS EN 3 VARIABLES\n",
    "segund=my_tupla[1]\n",
    "tercer=my_tupla[2]\n",
    "print(primer)\n",
    "print(segund)\n",
    "print(tercer)\n",
    "\n",
    "\n"
   ]
  }
 ],
 "metadata": {
  "kernelspec": {
   "display_name": "Python 3",
   "language": "python",
   "name": "python3"
  },
  "language_info": {
   "codemirror_mode": {
    "name": "ipython",
    "version": 3
   },
   "file_extension": ".py",
   "mimetype": "text/x-python",
   "name": "python",
   "nbconvert_exporter": "python",
   "pygments_lexer": "ipython3",
   "version": "3.11.4"
  },
  "orig_nbformat": 4
 },
 "nbformat": 4,
 "nbformat_minor": 2
}
