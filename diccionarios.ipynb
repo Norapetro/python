{
 "cells": [
  {
   "cell_type": "code",
   "execution_count": 2,
   "metadata": {},
   "outputs": [
    {
     "name": "stdout",
     "output_type": "stream",
     "text": [
      "{}\n"
     ]
    },
    {
     "data": {
      "text/plain": [
       "dict"
      ]
     },
     "execution_count": 2,
     "metadata": {},
     "output_type": "execute_result"
    }
   ],
   "source": [
    "primer_diccionario=dict()\n",
    "print(primer_diccionario)\n",
    "type(primer_diccionario)"
   ]
  },
  {
   "cell_type": "code",
   "execution_count": 3,
   "metadata": {},
   "outputs": [
    {
     "name": "stdout",
     "output_type": "stream",
     "text": [
      "{'primero': 'uno'}\n"
     ]
    }
   ],
   "source": [
    "primer_diccionario[\"primero\"]=\"uno\"\n",
    "print(primer_diccionario)"
   ]
  },
  {
   "cell_type": "code",
   "execution_count": 5,
   "metadata": {},
   "outputs": [
    {
     "name": "stdout",
     "output_type": "stream",
     "text": [
      "{'primero': 'uno', 'segundo': 'dos', 'tercero': 'tres'}\n"
     ]
    }
   ],
   "source": [
    "primer_diccionario[\"segundo\"]=\"dos\"\n",
    "primer_diccionario[\"tercero\"]=\"tres\"\n",
    "print(primer_diccionario)"
   ]
  },
  {
   "cell_type": "code",
   "execution_count": 9,
   "metadata": {},
   "outputs": [
    {
     "name": "stdout",
     "output_type": "stream",
     "text": [
      "{'colores primarios': ['rojo', 'azul', 'amarillo'], 'colores segundarios': ['naranja', 'violeta', 'verde'], 'clave 3': 10, 'clave 4': False}\n"
     ]
    }
   ],
   "source": [
    "mi_diccionario={\"colores primarios\":[\"rojo\",\"azul\",\"amarillo\"], #listas\n",
    "                \"colores segundarios\":[\"naranja\",\"violeta\",\"verde\"],  #listas\n",
    "                \"clave 3\":10,   #numeros entreos\n",
    "                \"clave 4\":False}  #boleanos\n",
    "\n",
    "print(mi_diccionario)\n"
   ]
  },
  {
   "cell_type": "code",
   "execution_count": 10,
   "metadata": {},
   "outputs": [
    {
     "name": "stdout",
     "output_type": "stream",
     "text": [
      "{'colores primarios': ['rojo', 'azul', 'amarillo'], 'colores segundarios': ['naranja', 'violeta', 'verde'], 'clave 3': 10}\n"
     ]
    }
   ],
   "source": [
    "del mi_diccionario[\"clave 4\"]  #la funcion (del) eliminamos un elemento del diccionario\n",
    "print(mi_diccionario)"
   ]
  },
  {
   "cell_type": "code",
   "execution_count": 11,
   "metadata": {},
   "outputs": [
    {
     "name": "stdout",
     "output_type": "stream",
     "text": [
      "{'Argentina': 'Buenos Aires', 'Italia': 'Roma', 'Inglaterra': 'Londres'}\n"
     ]
    }
   ],
   "source": [
    "mi_tupla=(\"Argentina\",\"Italia\",\"Inglaterra\") # Usamos una tupla como clave de un diccionario y a cada clave que proviene de la \n",
    "mi_diccionario={mi_tupla[0]: \"Buenos Aires\",  # tupla le asignamos un valor \n",
    "                mi_tupla[1]: \"Roma\",\n",
    "                mi_tupla[2]: \"Londres\"}\n",
    "print(mi_diccionario)\n"
   ]
  },
  {
   "cell_type": "code",
   "execution_count": 12,
   "metadata": {},
   "outputs": [
    {
     "name": "stdout",
     "output_type": "stream",
     "text": [
      "{'clave1': 'valor1', 'clave2': (1, 2, 3, 4, 5)}\n"
     ]
    }
   ],
   "source": [
    "mi_diccionario={\"clave1\":\"valor1\",\"clave2\":(1,2,3,4,5)}       #ponemos una TUPLA dentro de un diccionario\n",
    "print(mi_diccionario)"
   ]
  },
  {
   "cell_type": "code",
   "execution_count": 13,
   "metadata": {},
   "outputs": [
    {
     "name": "stdout",
     "output_type": "stream",
     "text": [
      "{'clave1': 'valor1', 'clave2': [1, 2, 3, 4, 5]}\n"
     ]
    }
   ],
   "source": [
    "mi_diccionario={\"clave1\":\"valor1\",\"clave2\":[1,2,3,4,5]}       #ponemos una LISTA  dentro de un diccionario\n",
    "print(mi_diccionario)"
   ]
  },
  {
   "cell_type": "code",
   "execution_count": 19,
   "metadata": {},
   "outputs": [
    {
     "name": "stdout",
     "output_type": "stream",
     "text": [
      "{'clave1': 'valor1', 'clave2': {'numero': [1, 2, 3, 4, 5]}}\n"
     ]
    }
   ],
   "source": [
    "mi_diccionario={\"clave1\":\"valor1\",\"clave2\":{\"numero\":[1,2,3,4,5]}} #Guardamos un dICCIONARIO dentro de un DICCIONARIO\n",
    "print(mi_diccionario)  #La clave2 se le asocia como valor un diccionario de numeros que contiene una lista de valores"
   ]
  },
  {
   "cell_type": "code",
   "execution_count": 21,
   "metadata": {},
   "outputs": [
    {
     "name": "stdout",
     "output_type": "stream",
     "text": [
      "dict_keys(['clave1', 'clave2'])\n"
     ]
    }
   ],
   "source": [
    "print(mi_diccionario.keys()) #keys IMPRIME LAS CLAVES DEL DICCIONARIO"
   ]
  },
  {
   "cell_type": "code",
   "execution_count": 16,
   "metadata": {},
   "outputs": [
    {
     "name": "stdout",
     "output_type": "stream",
     "text": [
      "dict_values([{'numero': [1, 2, 3, 4, 5]}])\n"
     ]
    }
   ],
   "source": [
    "print(mi_diccionario.values()) #values IMPRIME LOS VALORES DEL DICCIONARIO"
   ]
  },
  {
   "cell_type": "code",
   "execution_count": 20,
   "metadata": {},
   "outputs": [
    {
     "data": {
      "text/plain": [
       "2"
      ]
     },
     "execution_count": 20,
     "metadata": {},
     "output_type": "execute_result"
    }
   ],
   "source": [
    "len(mi_diccionario) # la longitud del diccionario."
   ]
  },
  {
   "cell_type": "code",
   "execution_count": 12,
   "metadata": {},
   "outputs": [
    {
     "name": "stdout",
     "output_type": "stream",
     "text": [
      "{'Paices': ['Colombia', 'Peru'], 'Capitales': ['Bogota', 'Lima'], 'Ciudades': ['Medellin', 'Inca']}\n",
      "dict_keys(['Paices', 'Capitales', 'Ciudades'])\n",
      "['Colombia', 'Peru']\n",
      "['Bogota', 'Lima']\n",
      "['Medellin', 'Inca']\n"
     ]
    }
   ],
   "source": [
    "my_diccionario={\"Paices\":[\"Colombia\",\"Peru\"],\n",
    "                \"Capitales\":[\"Bogota\",\"Lima\"],\n",
    "                \"Ciudades\":[\"Medellin\",\"Inca\"]}\n",
    "print(my_diccionario)\n",
    "\n",
    "print(my_diccionario.keys()) #Imprime las claves del diccionario\n",
    "\n",
    "paices=my_diccionario[\"Paices\"]  #Imprimir los valores por separado\n",
    "print(paices)\n",
    "\n",
    "Capitales=my_diccionario[\"Capitales\"]\n",
    "print(Capitales)\n",
    "\n",
    "Ciudades=my_diccionario[\"Ciudades\"]\n",
    "print(Ciudades)"
   ]
  }
 ],
 "metadata": {
  "kernelspec": {
   "display_name": "Python 3",
   "language": "python",
   "name": "python3"
  },
  "language_info": {
   "codemirror_mode": {
    "name": "ipython",
    "version": 3
   },
   "file_extension": ".py",
   "mimetype": "text/x-python",
   "name": "python",
   "nbconvert_exporter": "python",
   "pygments_lexer": "ipython3",
   "version": "3.11.4"
  },
  "orig_nbformat": 4
 },
 "nbformat": 4,
 "nbformat_minor": 2
}
